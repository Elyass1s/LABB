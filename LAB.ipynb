{
 "cells": [
  {
   "cell_type": "code",
   "execution_count": 1,
   "metadata": {},
   "outputs": [],
   "source": [
    "def decimal_to_binary(num):\n",
    "    bin=[]\n",
    "    current=num\n",
    "    while current!=0:\n",
    "        if current%2==0:\n",
    "            bin.append(0)\n",
    "        else:\n",
    "            bin.append(1)\n",
    "        current=current//2\n",
    "        return current.reverse()\n",
    "\n"
   ]
  },
  {
   "cell_type": "code",
   "execution_count": null,
   "metadata": {},
   "outputs": [],
   "source": [
    "#lab d math разбираем старые вопросы)))) 22\\10\\2024"
   ]
  },
  {
   "cell_type": "code",
   "execution_count": 11,
   "metadata": {},
   "outputs": [
    {
     "name": "stdout",
     "output_type": "stream",
     "text": [
      "[16, 56, 15, 51, 83]\n",
      "[74, 81, 19, 54, 26]\n",
      "[35, 51, 52, 14, 60]\n",
      "[73, 36, 62, 20, 88]\n",
      "[27, 34, 53, 17, 83]\n",
      "[89, 82, 81, 27, 41]\n",
      "[56, 83, 71, 11, 73]\n",
      "[26, 48, 65, 82, 75]\n",
      "[61, 48, 9, 63, 39]\n",
      "[29, 56, 72, 61, 44]\n"
     ]
    }
   ],
   "source": [
    "import random\n",
    "\n",
    "# Создаем матрицу 10x5 с рандомными числами от 1 до 50\n",
    "matrix1 = [[random.randint(1, 50) for _ in range(5)] for _ in range(10)]\n",
    "matrix2 = [[random.randint(1, 50) for _ in range(5)] for _ in range(10)]\n",
    "\n",
    "result = [[matrix1[i][j] + matrix2[i][j] for j in range(len(matrix1[0]))] for i in range(len(matrix1))]\n",
    "\n",
    "# Выводим матрицу\n",
    "for row in result:\n",
    "    print(row)\n"
   ]
  },
  {
   "cell_type": "code",
   "execution_count": 12,
   "metadata": {},
   "outputs": [
    {
     "name": "stdout",
     "output_type": "stream",
     "text": [
      "[58, 64]\n",
      "[139, 154]\n"
     ]
    }
   ],
   "source": [
    "matrix1 = [\n",
    "    [1, 2, 3],\n",
    "    [4, 5, 6]\n",
    "]\n",
    "\n",
    "matrix2 = [\n",
    "    [7, 8],\n",
    "    [9, 10],\n",
    "    [11, 12]\n",
    "]\n",
    "\n",
    "# Функция для умножения матриц\n",
    "def multiply_matrices(m1, m2):\n",
    "    # Проверка возможности умножения\n",
    "    if len(m1[0]) != len(m2):\n",
    "        raise ValueError(\"Количество столбцов первой матрицы должно быть равно количеству строк второй матрицы.\")\n",
    "\n",
    "    # Инициализация результирующей матрицы с нулями\n",
    "    result = [[0 for _ in range(len(m2[0]))] for _ in range(len(m1))]\n",
    "\n",
    "    # Умножение матриц\n",
    "    for i in range(len(m1)):\n",
    "        for j in range(len(m2[0])):\n",
    "            for k in range(len(m2)):\n",
    "                result[i][j] += m1[i][k] * m2[k][j]\n",
    "    \n",
    "    return result\n",
    "\n",
    "# Умножаем матрицы\n",
    "result = multiply_matrices(matrix1, matrix2)\n",
    "\n",
    "# Вывод результата\n",
    "for row in result:\n",
    "    print(row)\n"
   ]
  },
  {
   "cell_type": "code",
   "execution_count": 1,
   "metadata": {},
   "outputs": [],
   "source": [
    "##разбираем тест 25.10.24"
   ]
  },
  {
   "cell_type": "code",
   "execution_count": null,
   "metadata": {},
   "outputs": [],
   "source": [
    "import random\n",
    "import time\n",
    "matrix = [[random.randint(10, 1001) for _ in range(1000)] for _ in range(1000)]\n",
    "start_time_rows = time.time()\n",
    "row_sums = [sum(row) for row in matrix]\n",
    "row_time = time.time() - start_time_rows\n",
    "\n",
    "# Сумма по столбцам\n",
    "start_time_cols = time.time()\n",
    "col_sums =[sum(matrix[row][col] for row in range(1000)) for col in range(1000)]\n",
    "col_time = time.time() - start_time_cols\n",
    "\n",
    "row_time, col_time #это для time\n",
    "#суммировать через каждые 10 индексов\n",
    "#start_time_index = time.time()\n",
    "#for row in matrix:\n",
    "#    sum(row[i] for i in range(0, len(row), 10))\n",
    "#    print(matrix)\n",
    "#index_time=time.time() - start_time_index\n",
    "#index_time"
   ]
  },
  {
   "cell_type": "code",
   "execution_count": 14,
   "metadata": {},
   "outputs": [
    {
     "name": "stdout",
     "output_type": "stream",
     "text": [
      "Сумма элементов через каждый десятый индекс: 30\n"
     ]
    }
   ],
   "source": [
    "def sum_every_tenth(matrix_row):\n",
    "    return sum(matrix_row[i] for i in range(0, len(matrix_row), 10))\n",
    "\n",
    "# Пример использования\n",
    "matrix_row = [0,1, 2, 3, 4, 5, 6, 7, 8, 9, 10, 11, 12, 13, 14, 15, 16, 17, 18, 19, 20, 21]\n",
    "result = sum_every_tenth(matrix_row)\n",
    "print(\"Сумма элементов через каждый десятый индекс:\", result)"
   ]
  },
  {
   "cell_type": "code",
   "execution_count": 1,
   "metadata": {},
   "outputs": [],
   "source": [
    "#19.11.24 recursive and iterative method\n",
    "#фотто в телефоне"
   ]
  },
  {
   "cell_type": "code",
   "execution_count": 14,
   "metadata": {},
   "outputs": [
    {
     "data": {
      "text/plain": [
       "'olleh'"
      ]
     },
     "execution_count": 14,
     "metadata": {},
     "output_type": "execute_result"
    }
   ],
   "source": [
    "a=\"hello\"\n",
    "def Reverse(a):\n",
    "    if len(a)==1:\n",
    "        return a\n",
    "    else:\n",
    "        return a[-1]+reverse(a[:-1])\n",
    "Reverse(a)\n"
   ]
  },
  {
   "cell_type": "code",
   "execution_count": 5,
   "metadata": {},
   "outputs": [],
   "source": [
    "#03/12/24\n",
    "class Database:\n",
    "    def __init__(self):\n",
    "        self.massiv=[]\n",
    "    def hash(username):\n",
    "        s=0\n",
    "        for i in username:\n",
    "            s+=ord(i)\n",
    "        return s%100\n",
    "    \n",
    "\n",
    "class User:\n",
    "    def __init__(self,username,name,lastname,password,age):\n",
    "        pass\n",
    "#v telefone estttt!\n"
   ]
  }
 ],
 "metadata": {
  "kernelspec": {
   "display_name": "Python 3",
   "language": "python",
   "name": "python3"
  },
  "language_info": {
   "codemirror_mode": {
    "name": "ipython",
    "version": 3
   },
   "file_extension": ".py",
   "mimetype": "text/x-python",
   "name": "python",
   "nbconvert_exporter": "python",
   "pygments_lexer": "ipython3",
   "version": "3.12.5"
  }
 },
 "nbformat": 4,
 "nbformat_minor": 2
}
